{
 "cells": [
  {
   "cell_type": "code",
   "execution_count": 1,
   "id": "73039bc5",
   "metadata": {
    "_cell_guid": "b1076dfc-b9ad-4769-8c92-a6c4dae69d19",
    "_uuid": "8f2839f25d086af736a60e9eeb907d3b93b6e0e5",
    "execution": {
     "iopub.execute_input": "2024-06-17T13:57:42.739206Z",
     "iopub.status.busy": "2024-06-17T13:57:42.738776Z",
     "iopub.status.idle": "2024-06-17T13:57:43.682862Z",
     "shell.execute_reply": "2024-06-17T13:57:43.681637Z"
    },
    "papermill": {
     "duration": 0.953313,
     "end_time": "2024-06-17T13:57:43.685601",
     "exception": false,
     "start_time": "2024-06-17T13:57:42.732288",
     "status": "completed"
    },
    "tags": []
   },
   "outputs": [],
   "source": [
    "import numpy as np \n",
    "import pandas as pd "
   ]
  },
  {
   "cell_type": "code",
   "execution_count": 2,
   "id": "0d56685a",
   "metadata": {
    "execution": {
     "iopub.execute_input": "2024-06-17T13:57:43.696588Z",
     "iopub.status.busy": "2024-06-17T13:57:43.696051Z",
     "iopub.status.idle": "2024-06-17T13:57:43.722278Z",
     "shell.execute_reply": "2024-06-17T13:57:43.721107Z"
    },
    "papermill": {
     "duration": 0.03453,
     "end_time": "2024-06-17T13:57:43.724868",
     "exception": false,
     "start_time": "2024-06-17T13:57:43.690338",
     "status": "completed"
    },
    "tags": []
   },
   "outputs": [],
   "source": [
    "df = pd.read_csv(\"/kaggle/input/sales-data5189/sales_data.csv\")"
   ]
  },
  {
   "cell_type": "code",
   "execution_count": 3,
   "id": "f8482fa8",
   "metadata": {
    "execution": {
     "iopub.execute_input": "2024-06-17T13:57:43.735416Z",
     "iopub.status.busy": "2024-06-17T13:57:43.735025Z",
     "iopub.status.idle": "2024-06-17T13:57:43.771443Z",
     "shell.execute_reply": "2024-06-17T13:57:43.770282Z"
    },
    "papermill": {
     "duration": 0.044509,
     "end_time": "2024-06-17T13:57:43.773829",
     "exception": false,
     "start_time": "2024-06-17T13:57:43.729320",
     "status": "completed"
    },
    "tags": []
   },
   "outputs": [
    {
     "data": {
      "text/html": [
       "<div>\n",
       "<style scoped>\n",
       "    .dataframe tbody tr th:only-of-type {\n",
       "        vertical-align: middle;\n",
       "    }\n",
       "\n",
       "    .dataframe tbody tr th {\n",
       "        vertical-align: top;\n",
       "    }\n",
       "\n",
       "    .dataframe thead th {\n",
       "        text-align: right;\n",
       "    }\n",
       "</style>\n",
       "<table border=\"1\" class=\"dataframe\">\n",
       "  <thead>\n",
       "    <tr style=\"text-align: right;\">\n",
       "      <th></th>\n",
       "      <th>date</th>\n",
       "      <th>product</th>\n",
       "      <th>category</th>\n",
       "      <th>price</th>\n",
       "      <th>quantity</th>\n",
       "      <th>revenue</th>\n",
       "    </tr>\n",
       "  </thead>\n",
       "  <tbody>\n",
       "    <tr>\n",
       "      <th>0</th>\n",
       "      <td>2022-01-01</td>\n",
       "      <td>Smartphone</td>\n",
       "      <td>Electronics</td>\n",
       "      <td>600.0</td>\n",
       "      <td>10.0</td>\n",
       "      <td>6000.0</td>\n",
       "    </tr>\n",
       "    <tr>\n",
       "      <th>1</th>\n",
       "      <td>2022-01-01</td>\n",
       "      <td>Laptop</td>\n",
       "      <td>Electronics</td>\n",
       "      <td>1200.0</td>\n",
       "      <td>5.0</td>\n",
       "      <td>6000.0</td>\n",
       "    </tr>\n",
       "    <tr>\n",
       "      <th>2</th>\n",
       "      <td>2022-01-02</td>\n",
       "      <td>T-Shirt</td>\n",
       "      <td>Clothing</td>\n",
       "      <td>20.0</td>\n",
       "      <td>50.0</td>\n",
       "      <td>1000.0</td>\n",
       "    </tr>\n",
       "    <tr>\n",
       "      <th>3</th>\n",
       "      <td>2022-01-03</td>\n",
       "      <td>Headphones</td>\n",
       "      <td>Electronics</td>\n",
       "      <td>100.0</td>\n",
       "      <td>20.0</td>\n",
       "      <td>2000.0</td>\n",
       "    </tr>\n",
       "    <tr>\n",
       "      <th>4</th>\n",
       "      <td>2022-01-04</td>\n",
       "      <td>T-Shirt</td>\n",
       "      <td>Clothing</td>\n",
       "      <td>20.0</td>\n",
       "      <td>25.0</td>\n",
       "      <td>500.0</td>\n",
       "    </tr>\n",
       "    <tr>\n",
       "      <th>...</th>\n",
       "      <td>...</td>\n",
       "      <td>...</td>\n",
       "      <td>...</td>\n",
       "      <td>...</td>\n",
       "      <td>...</td>\n",
       "      <td>...</td>\n",
       "    </tr>\n",
       "    <tr>\n",
       "      <th>364</th>\n",
       "      <td>2022-12-27</td>\n",
       "      <td>Watch</td>\n",
       "      <td>Accessories</td>\n",
       "      <td>150.0</td>\n",
       "      <td>5.0</td>\n",
       "      <td>750.0</td>\n",
       "    </tr>\n",
       "    <tr>\n",
       "      <th>365</th>\n",
       "      <td>2022-12-28</td>\n",
       "      <td>Coat</td>\n",
       "      <td>Clothing</td>\n",
       "      <td>100.0</td>\n",
       "      <td>5.0</td>\n",
       "      <td>500.0</td>\n",
       "    </tr>\n",
       "    <tr>\n",
       "      <th>366</th>\n",
       "      <td>2022-12-29</td>\n",
       "      <td>Headphones</td>\n",
       "      <td>Electronics</td>\n",
       "      <td>100.0</td>\n",
       "      <td>10.0</td>\n",
       "      <td>1000.0</td>\n",
       "    </tr>\n",
       "    <tr>\n",
       "      <th>367</th>\n",
       "      <td>2022-12-30</td>\n",
       "      <td>Smartphone</td>\n",
       "      <td>Electronics</td>\n",
       "      <td>600.0</td>\n",
       "      <td>11.0</td>\n",
       "      <td>6600.0</td>\n",
       "    </tr>\n",
       "    <tr>\n",
       "      <th>368</th>\n",
       "      <td>2022-12-31</td>\n",
       "      <td>Hoodie</td>\n",
       "      <td>Clothing</td>\n",
       "      <td>40.0</td>\n",
       "      <td>30.0</td>\n",
       "      <td>1200.0</td>\n",
       "    </tr>\n",
       "  </tbody>\n",
       "</table>\n",
       "<p>369 rows × 6 columns</p>\n",
       "</div>"
      ],
      "text/plain": [
       "           date     product     category   price  quantity  revenue\n",
       "0    2022-01-01  Smartphone  Electronics   600.0      10.0   6000.0\n",
       "1    2022-01-01      Laptop  Electronics  1200.0       5.0   6000.0\n",
       "2    2022-01-02     T-Shirt     Clothing    20.0      50.0   1000.0\n",
       "3    2022-01-03  Headphones  Electronics   100.0      20.0   2000.0\n",
       "4    2022-01-04     T-Shirt     Clothing    20.0      25.0    500.0\n",
       "..          ...         ...          ...     ...       ...      ...\n",
       "364  2022-12-27       Watch  Accessories   150.0       5.0    750.0\n",
       "365  2022-12-28        Coat     Clothing   100.0       5.0    500.0\n",
       "366  2022-12-29  Headphones  Electronics   100.0      10.0   1000.0\n",
       "367  2022-12-30  Smartphone  Electronics   600.0      11.0   6600.0\n",
       "368  2022-12-31      Hoodie     Clothing    40.0      30.0   1200.0\n",
       "\n",
       "[369 rows x 6 columns]"
      ]
     },
     "execution_count": 3,
     "metadata": {},
     "output_type": "execute_result"
    }
   ],
   "source": [
    "df"
   ]
  },
  {
   "cell_type": "markdown",
   "id": "48cdc4c1",
   "metadata": {
    "papermill": {
     "duration": 0.004472,
     "end_time": "2024-06-17T13:57:43.783176",
     "exception": false,
     "start_time": "2024-06-17T13:57:43.778704",
     "status": "completed"
    },
    "tags": []
   },
   "source": [
    "# Total Revenue "
   ]
  },
  {
   "cell_type": "code",
   "execution_count": 4,
   "id": "3eee5c3b",
   "metadata": {
    "execution": {
     "iopub.execute_input": "2024-06-17T13:57:43.794964Z",
     "iopub.status.busy": "2024-06-17T13:57:43.794508Z",
     "iopub.status.idle": "2024-06-17T13:57:43.802215Z",
     "shell.execute_reply": "2024-06-17T13:57:43.800958Z"
    },
    "papermill": {
     "duration": 0.017208,
     "end_time": "2024-06-17T13:57:43.805593",
     "exception": false,
     "start_time": "2024-06-17T13:57:43.788385",
     "status": "completed"
    },
    "tags": []
   },
   "outputs": [
    {
     "data": {
      "text/plain": [
       "758330.0"
      ]
     },
     "execution_count": 4,
     "metadata": {},
     "output_type": "execute_result"
    }
   ],
   "source": [
    "total_revenue=df['revenue'].sum()\n",
    "total_revenue"
   ]
  },
  {
   "cell_type": "markdown",
   "id": "252c4cb7",
   "metadata": {
    "papermill": {
     "duration": 0.004683,
     "end_time": "2024-06-17T13:57:43.816537",
     "exception": false,
     "start_time": "2024-06-17T13:57:43.811854",
     "status": "completed"
    },
    "tags": []
   },
   "source": [
    "# Highest Revenue"
   ]
  },
  {
   "cell_type": "code",
   "execution_count": 5,
   "id": "63d676b6",
   "metadata": {
    "execution": {
     "iopub.execute_input": "2024-06-17T13:57:43.827949Z",
     "iopub.status.busy": "2024-06-17T13:57:43.827540Z",
     "iopub.status.idle": "2024-06-17T13:57:43.846011Z",
     "shell.execute_reply": "2024-06-17T13:57:43.844829Z"
    },
    "papermill": {
     "duration": 0.026875,
     "end_time": "2024-06-17T13:57:43.848280",
     "exception": false,
     "start_time": "2024-06-17T13:57:43.821405",
     "status": "completed"
    },
    "tags": []
   },
   "outputs": [
    {
     "data": {
      "text/plain": [
       "434400.0"
      ]
     },
     "execution_count": 5,
     "metadata": {},
     "output_type": "execute_result"
    }
   ],
   "source": [
    "product_revenue=df.groupby('product')['revenue'].sum()\n",
    "product_revenue.idxmax()\n",
    "product_revenue.max()"
   ]
  },
  {
   "cell_type": "markdown",
   "id": "769555eb",
   "metadata": {
    "papermill": {
     "duration": 0.004517,
     "end_time": "2024-06-17T13:57:43.857793",
     "exception": false,
     "start_time": "2024-06-17T13:57:43.853276",
     "status": "completed"
    },
    "tags": []
   },
   "source": [
    "# Average Price Of A Product Sold "
   ]
  },
  {
   "cell_type": "code",
   "execution_count": 6,
   "id": "0d67ab3f",
   "metadata": {
    "execution": {
     "iopub.execute_input": "2024-06-17T13:57:43.869133Z",
     "iopub.status.busy": "2024-06-17T13:57:43.868728Z",
     "iopub.status.idle": "2024-06-17T13:57:43.877151Z",
     "shell.execute_reply": "2024-06-17T13:57:43.876065Z"
    },
    "papermill": {
     "duration": 0.016734,
     "end_time": "2024-06-17T13:57:43.879369",
     "exception": false,
     "start_time": "2024-06-17T13:57:43.862635",
     "status": "completed"
    },
    "tags": []
   },
   "outputs": [
    {
     "data": {
      "text/plain": [
       "211.226"
      ]
     },
     "execution_count": 6,
     "metadata": {},
     "output_type": "execute_result"
    }
   ],
   "source": [
    "round(df['price'].mean(),3)"
   ]
  },
  {
   "cell_type": "markdown",
   "id": "f03476ad",
   "metadata": {
    "papermill": {
     "duration": 0.005426,
     "end_time": "2024-06-17T13:57:43.890032",
     "exception": false,
     "start_time": "2024-06-17T13:57:43.884606",
     "status": "completed"
    },
    "tags": []
   },
   "source": [
    "# Total Quantity Of Products Sold "
   ]
  },
  {
   "cell_type": "code",
   "execution_count": 7,
   "id": "9d2aa1f1",
   "metadata": {
    "execution": {
     "iopub.execute_input": "2024-06-17T13:57:43.902649Z",
     "iopub.status.busy": "2024-06-17T13:57:43.902262Z",
     "iopub.status.idle": "2024-06-17T13:57:43.909945Z",
     "shell.execute_reply": "2024-06-17T13:57:43.908871Z"
    },
    "papermill": {
     "duration": 0.017046,
     "end_time": "2024-06-17T13:57:43.912474",
     "exception": false,
     "start_time": "2024-06-17T13:57:43.895428",
     "status": "completed"
    },
    "tags": []
   },
   "outputs": [
    {
     "data": {
      "text/plain": [
       "5360"
      ]
     },
     "execution_count": 7,
     "metadata": {},
     "output_type": "execute_result"
    }
   ],
   "source": [
    "Total_Quantity=df[\"quantity\"].sum()\n",
    "round(Total_Quantity)"
   ]
  },
  {
   "cell_type": "markdown",
   "id": "c048470c",
   "metadata": {
    "papermill": {
     "duration": 0.004875,
     "end_time": "2024-06-17T13:57:43.922765",
     "exception": false,
     "start_time": "2024-06-17T13:57:43.917890",
     "status": "completed"
    },
    "tags": []
   },
   "source": [
    "# Total Category Reveneue"
   ]
  },
  {
   "cell_type": "code",
   "execution_count": 8,
   "id": "6a8e085c",
   "metadata": {
    "execution": {
     "iopub.execute_input": "2024-06-17T13:57:43.935160Z",
     "iopub.status.busy": "2024-06-17T13:57:43.934777Z",
     "iopub.status.idle": "2024-06-17T13:57:43.943124Z",
     "shell.execute_reply": "2024-06-17T13:57:43.942005Z"
    },
    "papermill": {
     "duration": 0.017343,
     "end_time": "2024-06-17T13:57:43.945521",
     "exception": false,
     "start_time": "2024-06-17T13:57:43.928178",
     "status": "completed"
    },
    "tags": []
   },
   "outputs": [
    {
     "name": "stdout",
     "output_type": "stream",
     "text": [
      "Electronics\n",
      "516080\n"
     ]
    }
   ],
   "source": [
    "TotalCategoryReveneue=df.groupby('category')['revenue'].sum()\n",
    "print(TotalCategoryReveneue.idxmax())\n",
    "print(round(TotalCategoryReveneue.max()))"
   ]
  },
  {
   "cell_type": "markdown",
   "id": "e891e757",
   "metadata": {
    "papermill": {
     "duration": 0.004828,
     "end_time": "2024-06-17T13:57:43.955720",
     "exception": false,
     "start_time": "2024-06-17T13:57:43.950892",
     "status": "completed"
    },
    "tags": []
   },
   "source": [
    "# Revenue Average"
   ]
  },
  {
   "cell_type": "code",
   "execution_count": 9,
   "id": "ea22070d",
   "metadata": {
    "execution": {
     "iopub.execute_input": "2024-06-17T13:57:43.967471Z",
     "iopub.status.busy": "2024-06-17T13:57:43.967119Z",
     "iopub.status.idle": "2024-06-17T13:57:43.974471Z",
     "shell.execute_reply": "2024-06-17T13:57:43.973387Z"
    },
    "papermill": {
     "duration": 0.016105,
     "end_time": "2024-06-17T13:57:43.976916",
     "exception": false,
     "start_time": "2024-06-17T13:57:43.960811",
     "status": "completed"
    },
    "tags": []
   },
   "outputs": [
    {
     "data": {
      "text/plain": [
       "2060.679"
      ]
     },
     "execution_count": 9,
     "metadata": {},
     "output_type": "execute_result"
    }
   ],
   "source": [
    "RevenueAverage=round(df['revenue'].mean(),3)\n",
    "RevenueAverage"
   ]
  },
  {
   "cell_type": "markdown",
   "id": "cb06d2c2",
   "metadata": {
    "papermill": {
     "duration": 0.005034,
     "end_time": "2024-06-17T13:57:43.987717",
     "exception": false,
     "start_time": "2024-06-17T13:57:43.982683",
     "status": "completed"
    },
    "tags": []
   },
   "source": [
    "# Total Revenue By Quarters Of Year"
   ]
  },
  {
   "cell_type": "code",
   "execution_count": 10,
   "id": "da2d7673",
   "metadata": {
    "execution": {
     "iopub.execute_input": "2024-06-17T13:57:44.000087Z",
     "iopub.status.busy": "2024-06-17T13:57:43.999616Z",
     "iopub.status.idle": "2024-06-17T13:57:44.021881Z",
     "shell.execute_reply": "2024-06-17T13:57:44.020868Z"
    },
    "papermill": {
     "duration": 0.03155,
     "end_time": "2024-06-17T13:57:44.024685",
     "exception": false,
     "start_time": "2024-06-17T13:57:43.993135",
     "status": "completed"
    },
    "tags": []
   },
   "outputs": [
    {
     "name": "stdout",
     "output_type": "stream",
     "text": [
      "Q1\n",
      "182100\n",
      "Q2\n",
      "183970\n",
      "Q3\n",
      "197680\n",
      "Q4\n",
      "194580\n"
     ]
    }
   ],
   "source": [
    "df['date']=pd.to_datetime(df['date'])\n",
    "df['quarter'] = df['date'].dt.to_period('Q')\n",
    "Q1_data = df[df['quarter'].dt.quarter == 1]\n",
    "Q2_data = df[df['quarter'].dt.quarter == 2]\n",
    "Q3_data = df[df['quarter'].dt.quarter == 3]\n",
    "Q4_data = df[df['quarter'].dt.quarter == 4]\n",
    "print('Q1')\n",
    "print(round(Q1_data['revenue'].sum()))\n",
    "print('Q2')\n",
    "print(round(Q2_data['revenue'].sum()))\n",
    "print('Q3')\n",
    "print(round(Q3_data['revenue'].sum()))\n",
    "print('Q4')\n",
    "print(round(Q4_data['revenue'].sum()))"
   ]
  },
  {
   "cell_type": "code",
   "execution_count": null,
   "id": "ca40a159",
   "metadata": {
    "papermill": {
     "duration": 0.004953,
     "end_time": "2024-06-17T13:57:44.035032",
     "exception": false,
     "start_time": "2024-06-17T13:57:44.030079",
     "status": "completed"
    },
    "tags": []
   },
   "outputs": [],
   "source": []
  }
 ],
 "metadata": {
  "kaggle": {
   "accelerator": "none",
   "dataSources": [
    {
     "datasetId": 5226639,
     "sourceId": 8712310,
     "sourceType": "datasetVersion"
    }
   ],
   "dockerImageVersionId": 30732,
   "isGpuEnabled": false,
   "isInternetEnabled": false,
   "language": "python",
   "sourceType": "notebook"
  },
  "kernelspec": {
   "display_name": "Python 3",
   "language": "python",
   "name": "python3"
  },
  "language_info": {
   "codemirror_mode": {
    "name": "ipython",
    "version": 3
   },
   "file_extension": ".py",
   "mimetype": "text/x-python",
   "name": "python",
   "nbconvert_exporter": "python",
   "pygments_lexer": "ipython3",
   "version": "3.10.13"
  },
  "papermill": {
   "default_parameters": {},
   "duration": 4.81592,
   "end_time": "2024-06-17T13:57:44.561844",
   "environment_variables": {},
   "exception": null,
   "input_path": "__notebook__.ipynb",
   "output_path": "__notebook__.ipynb",
   "parameters": {},
   "start_time": "2024-06-17T13:57:39.745924",
   "version": "2.5.0"
  }
 },
 "nbformat": 4,
 "nbformat_minor": 5
}
